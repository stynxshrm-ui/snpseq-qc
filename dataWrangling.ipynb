{
 "cells": [
  {
   "cell_type": "markdown",
   "id": "8372609d-2ba1-475a-a251-a9940eb3da46",
   "metadata": {},
   "source": [
    "## Comprehensive Genotype Quality Control Analysis\n",
    "\n",
    "####  Analysis of genotype data comparing reference HapMap data with laboratory results. "
   ]
  },
  {
   "cell_type": "code",
   "execution_count": 16,
   "id": "75f848a1-a881-44cd-aff7-6f77e9888448",
   "metadata": {},
   "outputs": [],
   "source": [
    "import pandas as pd\n",
    "import glob\n",
    "import os\n",
    "import numpy as np\n",
    "import matplotlib.pyplot as plt\n",
    "import seaborn as sns\n",
    "from collections import Counter\n",
    "import itertools"
   ]
  },
  {
   "cell_type": "code",
   "execution_count": 2,
   "id": "f92e906c-86c7-43dd-8a46-0ba55e1f9163",
   "metadata": {},
   "outputs": [],
   "source": [
    "REFERENCE_DIR = \"../\"\n",
    "LAB_FILE = \"../genotype_inf.txt\""
   ]
  },
  {
   "cell_type": "markdown",
   "id": "2f62d201-7d4f-466d-abcb-0b0bd8f5f864",
   "metadata": {},
   "source": [
    "## Load Data"
   ]
  },
  {
   "cell_type": "code",
   "execution_count": 3,
   "id": "988e247b-6088-484d-ad63-b33267460183",
   "metadata": {},
   "outputs": [],
   "source": [
    "def load_reference_data(reference_dir):\n",
    "    \"\"\"Load all HapMap reference files.\"\"\"\n",
    "    print(\"Loading reference data...\")\n",
    "    pattern = os.path.join(reference_dir, \"HapMap_r23a_CEP_C*_AllSNPs.txt\")\n",
    "    files = glob.glob(pattern)\n",
    "    \n",
    "    if not files:\n",
    "        raise FileNotFoundError(f\"No reference files found in {reference_dir}\")\n",
    "    \n",
    "    dfs = []\n",
    "    for file_path in files:\n",
    "        df = pd.read_csv(file_path, sep='\\t', header=None,\n",
    "                        names=['individual', 'marker', 'allele_result'])\n",
    "        dfs.append(df)\n",
    "    \n",
    "    combined = pd.concat(dfs, ignore_index=True)\n",
    "    \n",
    "    # Strip whitespace\n",
    "    for col in combined.columns:\n",
    "        combined[col] = combined[col].str.strip()\n",
    "    \n",
    "    print(f\"Loaded {len(combined):,} reference records from {len(files)} files\")\n",
    "    return combined\n",
    "\n",
    "def load_lab_data(lab_file):\n",
    "    \"\"\"Load lab genotype data.\"\"\"\n",
    "    print(\"Loading lab data...\")\n",
    "    if not os.path.exists(lab_file):\n",
    "        raise FileNotFoundError(f\"Lab file not found: {lab_file}\")\n",
    "    \n",
    "    df = pd.read_csv(lab_file, sep=';', skiprows=2,\n",
    "                     names=['individual', 'marker', 'allele_result'])\n",
    "    \n",
    "    # Strip whitespace\n",
    "    for col in df.columns:\n",
    "        df[col] = df[col].str.strip()\n",
    "    \n",
    "    print(f\"Loaded {len(df):,} lab records\")\n",
    "    return df"
   ]
  },
  {
   "cell_type": "code",
   "execution_count": 6,
   "id": "f6942e6c-6538-4f13-8537-c526a845d01f",
   "metadata": {},
   "outputs": [
    {
     "name": "stdout",
     "output_type": "stream",
     "text": [
      "Loading reference data...\n",
      "Loaded 240,000 reference records from 6 files\n",
      "Loading lab data...\n",
      "Loaded 240,000 lab records\n",
      "\n",
      "============================================================\n",
      "INITIAL DATA EXAMINATION\n",
      "============================================================\n",
      "\n",
      "Reference Data Shape: (240000, 3)\n",
      "Lab Data Shape: (240000, 3)\n",
      "\n",
      "Reference Data Sample:\n"
     ]
    },
    {
     "data": {
      "text/html": [
       "<div>\n",
       "<style scoped>\n",
       "    .dataframe tbody tr th:only-of-type {\n",
       "        vertical-align: middle;\n",
       "    }\n",
       "\n",
       "    .dataframe tbody tr th {\n",
       "        vertical-align: top;\n",
       "    }\n",
       "\n",
       "    .dataframe thead th {\n",
       "        text-align: right;\n",
       "    }\n",
       "</style>\n",
       "<table border=\"1\" class=\"dataframe\">\n",
       "  <thead>\n",
       "    <tr style=\"text-align: right;\">\n",
       "      <th></th>\n",
       "      <th>individual</th>\n",
       "      <th>marker</th>\n",
       "      <th>allele_result</th>\n",
       "    </tr>\n",
       "  </thead>\n",
       "  <tbody>\n",
       "    <tr>\n",
       "      <th>0</th>\n",
       "      <td>CEP_C1</td>\n",
       "      <td>rs10399749</td>\n",
       "      <td>C/C</td>\n",
       "    </tr>\n",
       "    <tr>\n",
       "      <th>1</th>\n",
       "      <td>CEP_C1</td>\n",
       "      <td>rs4030303</td>\n",
       "      <td>C/C</td>\n",
       "    </tr>\n",
       "    <tr>\n",
       "      <th>2</th>\n",
       "      <td>CEP_C1</td>\n",
       "      <td>rs4030300</td>\n",
       "      <td>G/G</td>\n",
       "    </tr>\n",
       "    <tr>\n",
       "      <th>3</th>\n",
       "      <td>CEP_C1</td>\n",
       "      <td>rs940550</td>\n",
       "      <td>T/T</td>\n",
       "    </tr>\n",
       "    <tr>\n",
       "      <th>4</th>\n",
       "      <td>CEP_C1</td>\n",
       "      <td>rs13328714</td>\n",
       "      <td>C/C</td>\n",
       "    </tr>\n",
       "  </tbody>\n",
       "</table>\n",
       "</div>"
      ],
      "text/plain": [
       "  individual      marker allele_result\n",
       "0     CEP_C1  rs10399749           C/C\n",
       "1     CEP_C1   rs4030303           C/C\n",
       "2     CEP_C1   rs4030300           G/G\n",
       "3     CEP_C1    rs940550           T/T\n",
       "4     CEP_C1  rs13328714           C/C"
      ]
     },
     "metadata": {},
     "output_type": "display_data"
    },
    {
     "name": "stdout",
     "output_type": "stream",
     "text": [
      "\n",
      "Lab Data Sample:\n"
     ]
    },
    {
     "data": {
      "text/html": [
       "<div>\n",
       "<style scoped>\n",
       "    .dataframe tbody tr th:only-of-type {\n",
       "        vertical-align: middle;\n",
       "    }\n",
       "\n",
       "    .dataframe tbody tr th {\n",
       "        vertical-align: top;\n",
       "    }\n",
       "\n",
       "    .dataframe thead th {\n",
       "        text-align: right;\n",
       "    }\n",
       "</style>\n",
       "<table border=\"1\" class=\"dataframe\">\n",
       "  <thead>\n",
       "    <tr style=\"text-align: right;\">\n",
       "      <th></th>\n",
       "      <th>individual</th>\n",
       "      <th>marker</th>\n",
       "      <th>allele_result</th>\n",
       "    </tr>\n",
       "  </thead>\n",
       "  <tbody>\n",
       "    <tr>\n",
       "      <th>0</th>\n",
       "      <td>CEP_C13</td>\n",
       "      <td>rs17195431</td>\n",
       "      <td>G/G</td>\n",
       "    </tr>\n",
       "    <tr>\n",
       "      <th>1</th>\n",
       "      <td>CEP_C14</td>\n",
       "      <td>rs88780942</td>\n",
       "      <td>C/G</td>\n",
       "    </tr>\n",
       "    <tr>\n",
       "      <th>2</th>\n",
       "      <td>CEP_C1</td>\n",
       "      <td>rs29504795</td>\n",
       "      <td>G/G</td>\n",
       "    </tr>\n",
       "    <tr>\n",
       "      <th>3</th>\n",
       "      <td>CEP_C16</td>\n",
       "      <td>rs4531439</td>\n",
       "      <td>C/C</td>\n",
       "    </tr>\n",
       "    <tr>\n",
       "      <th>4</th>\n",
       "      <td>CEP_C15</td>\n",
       "      <td>rs5030461</td>\n",
       "      <td>A/A</td>\n",
       "    </tr>\n",
       "  </tbody>\n",
       "</table>\n",
       "</div>"
      ],
      "text/plain": [
       "  individual      marker allele_result\n",
       "0    CEP_C13  rs17195431           G/G\n",
       "1    CEP_C14  rs88780942           C/G\n",
       "2     CEP_C1  rs29504795           G/G\n",
       "3    CEP_C16   rs4531439           C/C\n",
       "4    CEP_C15   rs5030461           A/A"
      ]
     },
     "metadata": {},
     "output_type": "display_data"
    }
   ],
   "source": [
    "# Load data\n",
    "ref_df = load_reference_data(REFERENCE_DIR)\n",
    "lab_df = load_lab_data(LAB_FILE)\n",
    "\n",
    "print(\"\\n\" + \"=\"*60)\n",
    "print(\"INITIAL DATA EXAMINATION\")\n",
    "print(\"=\"*60)\n",
    "\n",
    "print(f\"\\nReference Data Shape: {ref_df.shape}\")\n",
    "print(f\"Lab Data Shape: {lab_df.shape}\")\n",
    "\n",
    "print(\"\\nReference Data Sample:\")\n",
    "display(ref_df.head())\n",
    "\n",
    "print(\"\\nLab Data Sample:\")\n",
    "display(lab_df.head())\n"
   ]
  },
  {
   "cell_type": "markdown",
   "id": "4f923e9e-e81a-4428-9de8-150855ede0e8",
   "metadata": {},
   "source": [
    "## DATA STRUCTURE ANALYSIS"
   ]
  },
  {
   "cell_type": "markdown",
   "id": "9861ff9d-9b78-46d2-aac9-e05da1375ff4",
   "metadata": {},
   "source": [
    "### Reference"
   ]
  },
  {
   "cell_type": "code",
   "execution_count": 69,
   "id": "9f5a89ec-df9c-48ab-999d-659172ce8532",
   "metadata": {},
   "outputs": [
    {
     "name": "stdout",
     "output_type": "stream",
     "text": [
      "\n",
      "Reference Data:\n",
      "  • Total rows: 240,000\n",
      "  • Unique individuals: 6\n",
      "  • Possible Individual-marker combinations: 240,000\n",
      "  • Unique markers: 40,001\n",
      "  • Individual-marker combinations: {('CEP_C13', 'rs2616379'), ('CEP_C15', 'rs11827033'), ('CEP_C13', 'rs2053669')}\n",
      "  • Individuals: ['CEP_C1', 'CEP_C13', 'CEP_C14', 'CEP_C15', 'CEP_C16', 'CEP_C2']\n"
     ]
    }
   ],
   "source": [
    "# Reference data analysis\n",
    "ref_individuals = set(ref_df['individual'].unique())\n",
    "ref_markers = set(ref_df['marker'].unique())\n",
    "ref_combinations = set(zip(ref_df['individual'], ref_df['marker']))\n",
    "\n",
    "print(f\"\\nReference Data:\")\n",
    "print(f\"  • Total rows: {len(ref_df):,}\")\n",
    "print(f\"  • Unique individuals: {len(ref_individuals)}\")\n",
    "print(f\"  • Possible Individual-marker combinations: {len(ref_combinations):,}\")\n",
    "print(f\"  • Unique markers: {len(ref_markers):,}\")\n",
    "print(f\"  • Individual-marker combinations: {set(itertools.islice(ref_combinations, 3))}\")\n",
    "print(f\"  • Individuals: {sorted(ref_individuals)}\")"
   ]
  },
  {
   "cell_type": "markdown",
   "id": "b3c9828e-84db-40bb-9f46-9ea997a0d7f5",
   "metadata": {},
   "source": [
    "### Lab Data"
   ]
  },
  {
   "cell_type": "code",
   "execution_count": 73,
   "id": "96fb9a70-fd8e-469d-94a7-767d011ac815",
   "metadata": {},
   "outputs": [
    {
     "name": "stdout",
     "output_type": "stream",
     "text": [
      "\n",
      "Lab Data:\n",
      "  • Total rows: 240,000\n",
      "  • Unique individuals: 6\n",
      "  • Unique markers: 136,056\n",
      "  • Individual-marker combinations: 239,973 Ideal: 816336\n",
      "  • Individuals: ['CEP_C1', 'CEP_C13', 'CEP_C14', 'CEP_C15', 'CEP_C16', 'CEP_C2']\n"
     ]
    }
   ],
   "source": [
    "# Lab data analysis\n",
    "lab_individuals = set(lab_df['individual'].unique())\n",
    "lab_markers = set(lab_df['marker'].unique())\n",
    "lab_combinations = set(zip(lab_df['individual'], lab_df['marker']))\n",
    "\n",
    "print(f\"\\nLab Data:\")\n",
    "print(f\"  • Total rows: {len(lab_df):,}\")\n",
    "print(f\"  • Unique individuals: {len(lab_individuals)}\")\n",
    "print(f\"  • Unique markers: {len(lab_markers):,}\")\n",
    "print(f\"  • Individual-marker combinations: {len(lab_combinations):,} Ideal: {len(lab_individuals)*len(lab_markers)}\")\n",
    "print(f\"  • Individuals: {sorted(lab_individuals)}\")\n"
   ]
  },
  {
   "cell_type": "markdown",
   "id": "24a4caf6-b7e7-4ecd-87b7-6ad3f4c5cc8a",
   "metadata": {},
   "source": [
    "#### NOTE:\n",
    "There are Unique markers: 136,056 in lb data but 40,001 in Ref."
   ]
  },
  {
   "cell_type": "code",
   "execution_count": 53,
   "id": "067de0dd-167c-45d0-820b-c7745876b74c",
   "metadata": {},
   "outputs": [
    {
     "name": "stdout",
     "output_type": "stream",
     "text": [
      "Individuals counts: \n",
      "individual\n",
      "CEP_C16    40166\n",
      "CEP_C14    40165\n",
      "CEP_C13    40032\n",
      "CEP_C15    39994\n",
      "CEP_C1     39903\n",
      "CEP_C2     39740\n",
      "Name: count, dtype: int64\n"
     ]
    }
   ],
   "source": [
    "# Markers per individual in lab data\n",
    "individual_counts = lab_df['individual'].value_counts()\n",
    "print(f\"Individuals counts: \\n{individual_counts}\")"
   ]
  },
  {
   "cell_type": "code",
   "execution_count": 54,
   "id": "86d7d069-daef-4f01-b2fc-6a7d604066c7",
   "metadata": {},
   "outputs": [
    {
     "name": "stdout",
     "output_type": "stream",
     "text": [
      "Markers per individual in lab data:\n",
      "  • CEP_C1: 39,903 markers\n",
      "  • CEP_C13: 40,032 markers\n",
      "  • CEP_C14: 40,165 markers\n",
      "  • CEP_C15: 39,994 markers\n",
      "  • CEP_C16: 40,166 markers\n",
      "  • CEP_C2: 39,740 markers\n"
     ]
    },
    {
     "data": {
      "image/png": "[encoded data removed]",
      "text/plain": [
       "<Figure size 1500x600 with 2 Axes>"
      ]
     },
     "metadata": {},
     "output_type": "display_data"
    }
   ],
   "source": [
    "print(f\"Markers per individual in lab data:\")\n",
    "for ind in sorted(lab_individuals):\n",
    "    count = individual_counts[ind]\n",
    "    print(f\"  • {ind}: {count:,} markers\")\n",
    "\n",
    "# Create visualization\n",
    "fig, (ax1, ax2) = plt.subplots(1, 2, figsize=(15, 6))\n",
    "\n",
    "# Markers per individual\n",
    "individual_counts.plot(kind='bar', ax=ax1, color='skyblue')\n",
    "ax1.set_title('Markers per Individual (Lab Data)')\n",
    "ax1.set_xlabel('Individual')\n",
    "ax1.set_ylabel('Number of Markers')\n",
    "ax1.tick_params(axis='x', rotation=45)\n",
    "\n",
    "# Data size comparison\n",
    "categories = ['Reference\\nData', 'Lab\\nData']\n",
    "sizes = [len(ref_df), len(lab_df)]\n",
    "colors = ['lightcoral', 'lightgreen']\n",
    "\n",
    "ax2.bar(categories, sizes, color=colors)\n",
    "ax2.set_title('Data Size Comparison')\n",
    "ax2.set_ylabel('Number of Rows')\n",
    "\n",
    "# Add value labels on bars\n",
    "for i, v in enumerate(sizes):\n",
    "    ax2.text(i, v + 1000, f'{v:,}', ha='center', va='bottom')\n",
    "\n",
    "plt.tight_layout()\n",
    "plt.show()"
   ]
  },
  {
   "cell_type": "markdown",
   "id": "1c1d801c-6042-4847-ba4d-402c98e50d1e",
   "metadata": {},
   "source": [
    "## Check marker consistency in reference among individuals"
   ]
  },
  {
   "cell_type": "code",
   "execution_count": 55,
   "id": "9ffc5fdc-6121-43ae-bc48-a593e11f602e",
   "metadata": {},
   "outputs": [
    {
     "name": "stdout",
     "output_type": "stream",
     "text": [
      "CHECKING MARKER CONSISTENCY IN REFERENCE DATA\n",
      "============================================================\n",
      "\n",
      "Marker Count Summary:\n",
      "CEP_C1: 40,000 markers\n",
      "CEP_C14: 40,000 markers\n",
      "CEP_C2: 40,000 markers\n",
      "CEP_C13: 40,000 markers\n",
      "CEP_C15: 40,000 markers\n",
      "CEP_C16: 40,000 markers\n",
      "\n",
      "MARKER CONSISTENCY CHECK:\n",
      "  Using CEP_C1 as reference: 40,000 markers\n",
      "CEP_C14: DIFFERENT markers from reference\n",
      "    Missing in CEP_C14: 1 markers\n",
      "    Examples: ['rs10838923']\n",
      "    Extra in CEP_C14: 1 markers\n",
      "    Examples: ['rs12099259']\n",
      "CEP_C2: SAME markers as reference\n",
      "CEP_C13: DIFFERENT markers from reference\n",
      "    Missing in CEP_C13: 1 markers\n",
      "    Examples: ['rs10838923']\n",
      "    Extra in CEP_C13: 1 markers\n",
      "    Examples: ['rs12099259']\n",
      "CEP_C15: DIFFERENT markers from reference\n",
      "    Missing in CEP_C15: 1 markers\n",
      "    Examples: ['rs10838923']\n",
      "    Extra in CEP_C15: 1 markers\n",
      "    Examples: ['rs12099259']\n",
      "CEP_C16: DIFFERENT markers from reference\n",
      "    Missing in CEP_C16: 1 markers\n",
      "    Examples: ['rs10838923']\n",
      "    Extra in CEP_C16: 1 markers\n",
      "    Examples: ['rs12099259']\n",
      "Individuals have DIFFERENT marker sets\n",
      "Reference data has inconsistencies\n"
     ]
    }
   ],
   "source": [
    "#    Check if all individuals in reference data have the same marker sets.\n",
    "print(\"CHECKING MARKER CONSISTENCY IN REFERENCE DATA\")\n",
    "print(\"=\"*60)\n",
    "\n",
    "# Get markers per individual\n",
    "marker_sets = {}\n",
    "individual_counts = {}\n",
    "\n",
    "print(f\"\\nMarker Count Summary:\")    \n",
    "for individual in ref_df['individual'].unique():\n",
    "    individual_markers = set(ref_df[ref_df['individual'] == individual]['marker'])\n",
    "    marker_sets[individual] = individual_markers            #dict: key individual; val:set(markers)\n",
    "    individual_counts[individual] = len(individual_markers) #dict: key individual; val:len(set(markers))\n",
    "    print(f\"{individual}: {len(individual_markers):,} markers\")\n",
    "    \n",
    "# Check consistency\n",
    "print(f\"\\nMARKER CONSISTENCY CHECK:\")\n",
    "all_markers_same = True\n",
    "reference_markers = None\n",
    "inconsistencies = {}\n",
    "\n",
    "#loop thru marker_set dict.\n",
    "for individual, markers in marker_sets.items():\n",
    "    if reference_markers is None:\n",
    "        reference_markers = markers\n",
    "        print(f\"  Using {individual} as reference: {len(markers):,} markers\")\n",
    "    else:\n",
    "        if markers == reference_markers:\n",
    "            print(f\"{individual}: SAME markers as reference\")\n",
    "        else:\n",
    "            print(f\"{individual}: DIFFERENT markers from reference\")\n",
    "            all_markers_same = False\n",
    "            \n",
    "            # Find differences\n",
    "            only_in_ref = reference_markers - markers\n",
    "            only_in_individual = markers - reference_markers\n",
    "            \n",
    "            inconsistencies[individual] = {\n",
    "                'missing': only_in_ref,\n",
    "                'extra': only_in_individual\n",
    "            }\n",
    "            \n",
    "            if only_in_ref:\n",
    "                print(f\"    Missing in {individual}: {len(only_in_ref)} markers\")\n",
    "                print(f\"    Examples: {list(only_in_ref)[:5]}\")\n",
    "            if only_in_individual:\n",
    "                print(f\"    Extra in {individual}: {len(only_in_individual)} markers\")\n",
    "                print(f\"    Examples: {list(only_in_individual)[:5]}\")\n",
    "\n",
    "if all_markers_same:\n",
    "    print(\"All individuals have IDENTICAL marker sets\")\n",
    "    print(\"Reference data is consistent across individuals\")\n",
    "else:\n",
    "    print(\"Individuals have DIFFERENT marker sets\")\n",
    "    print(\"Reference data has inconsistencies\")"
   ]
  },
  {
   "cell_type": "markdown",
   "id": "f2934200-ff1a-459d-ac0c-c51d5f5b7bc7",
   "metadata": {},
   "source": [
    "## Marker overlap between Ref and Lab"
   ]
  },
  {
   "cell_type": "code",
   "execution_count": 64,
   "id": "bb4b00b8-54e6-499a-8b14-b636a1bf1af3",
   "metadata": {},
   "outputs": [
    {
     "name": "stdout",
     "output_type": "stream",
     "text": [
      "  • Ref unique markers: 40,001\n",
      "  • Lab unique markers: 136,056\n"
     ]
    }
   ],
   "source": [
    "# Marker overlap\n",
    "print(f\"  • Ref unique markers: {len(ref_markers):,}\")\n",
    "print(f\"  • Lab unique markers: {len(lab_markers):,}\")"
   ]
  },
  {
   "cell_type": "code",
   "execution_count": 66,
   "id": "eb75cde5-c557-4b03-af7b-0f77d0319298",
   "metadata": {},
   "outputs": [
    {
     "name": "stdout",
     "output_type": "stream",
     "text": [
      "  • Common markers: 39,834\n",
      "  • Reference-only markers, Markers unoq to Ref: 167\n",
      "  • Lab-only markers, Markers unoq to Lab: 96,222\n",
      "  • Total unique markers: 136,223\n",
      "  • Overlap percentage: 29.2%\n"
     ]
    }
   ],
   "source": [
    "common_markers = ref_markers & lab_markers\n",
    "ref_only_markers = ref_markers - lab_markers\n",
    "lab_only_markers = lab_markers - ref_markers\n",
    "\n",
    "print(f\"  • Common markers: {len(common_markers):,}\")\n",
    "print(f\"  • Reference-only markers, Markers unoq to Ref: {len(ref_only_markers):,}\")\n",
    "print(f\"  • Lab-only markers, Markers unoq to Lab: {len(lab_only_markers):,}\")\n",
    "print(f\"  • Total unique markers: {len(ref_markers | lab_markers):,}\")\n",
    "print(f\"  • Overlap percentage: {len(common_markers)/len(ref_markers | lab_markers)*100:.1f}%\")"
   ]
  },
  {
   "cell_type": "code",
   "execution_count": 75,
   "id": "6a3d459e-b221-4ca2-8ddf-390075abbee3",
   "metadata": {},
   "outputs": [
    {
     "name": "stdout",
     "output_type": "stream",
     "text": [
      "\n",
      "Individual-Marker Combination Overlap:\n",
      "  • Common combinations: 143,720\n",
      "  • Reference-only combinations: 96,280\n",
      "  • Lab-only combinations: 96,253\n"
     ]
    }
   ],
   "source": [
    "# Combination overlap\n",
    "common_combinations = ref_combinations & lab_combinations\n",
    "ref_only_combinations = ref_combinations - lab_combinations\n",
    "lab_only_combinations = lab_combinations - ref_combinations\n",
    "\n",
    "print(f\"\\nIndividual-Marker Combination Overlap:\")\n",
    "print(f\"  • Common combinations: {len(common_combinations):,}\")\n",
    "print(f\"  • Reference-only combinations: {len(ref_only_combinations):,}\")\n",
    "print(f\"  • Lab-only combinations: {len(lab_only_combinations):,}\")"
   ]
  },
  {
   "cell_type": "code",
   "execution_count": 76,
   "id": "e7185677-d33b-46ce-a753-d69ec1bf3c00",
   "metadata": {},
   "outputs": [
    {
     "data": {
      "image/png": "[encoded data removed]",
      "text/plain": [
       "<Figure size 1500x600 with 2 Axes>"
      ]
     },
     "metadata": {},
     "output_type": "display_data"
    }
   ],
   "source": [
    "# Visualization\n",
    "fig, (ax1, ax2) = plt.subplots(1, 2, figsize=(15, 6))\n",
    "\n",
    "# Marker overlap\n",
    "marker_data = [len(common_markers), len(ref_only_markers), len(lab_only_markers)]\n",
    "marker_labels = ['Common', 'Ref Only', 'Lab Only']\n",
    "colors = ['red', 'yellow', 'blue']\n",
    "\n",
    "ax1.pie(marker_data, labels=marker_labels, colors=colors, autopct='%1.1f%%', startangle=90)\n",
    "ax1.set_title('Marker Overlap Distribution')\n",
    "\n",
    "# Combination overlap\n",
    "combo_data = [len(common_combinations), len(ref_only_combinations), len(lab_only_combinations)]\n",
    "combo_labels = ['Common', 'Ref Only', 'Lab Only']\n",
    "\n",
    "ax2.pie(combo_data, labels=combo_labels, colors=colors, autopct='%1.1f%%', startangle=90)\n",
    "ax2.set_title('Individual-Marker Combination Overlap')\n",
    "\n",
    "plt.tight_layout()\n",
    "plt.show()"
   ]
  },
  {
   "cell_type": "markdown",
   "id": "67007fc4-580c-4532-b889-51710eacc018",
   "metadata": {},
   "source": [
    "## Check for Missing Values"
   ]
  },
  {
   "cell_type": "code",
   "execution_count": 92,
   "id": "79b22c6c-5999-4bcd-922d-9eafcf99dee4",
   "metadata": {},
   "outputs": [
    {
     "data": {
      "text/plain": [
       "individual          0\n",
       "marker              0\n",
       "allele_result    3854\n",
       "dtype: int64"
      ]
     },
     "execution_count": 92,
     "metadata": {},
     "output_type": "execute_result"
    }
   ],
   "source": [
    "ref_df.isna().sum()"
   ]
  },
  {
   "cell_type": "code",
   "execution_count": 93,
   "id": "daf5c0fa-19c0-44fd-88d7-9d41d9127763",
   "metadata": {},
   "outputs": [
    {
     "data": {
      "text/plain": [
       "individual          0\n",
       "marker              0\n",
       "allele_result    3836\n",
       "dtype: int64"
      ]
     },
     "execution_count": 93,
     "metadata": {},
     "output_type": "execute_result"
    }
   ],
   "source": [
    "lab_df.isna().sum()"
   ]
  },
  {
   "cell_type": "code",
   "execution_count": 77,
   "id": "e3030313-1a3a-4a37-838e-e4e5a4537e84",
   "metadata": {},
   "outputs": [
    {
     "name": "stdout",
     "output_type": "stream",
     "text": [
      "Data Null Values:\n",
      "  • Reference data nulls: 3,854\n",
      "  • Lab data nulls: 3,836\n"
     ]
    }
   ],
   "source": [
    "# Check null values in original data\n",
    "ref_nulls = ref_df['allele_result'].isna().sum()\n",
    "lab_nulls = lab_df['allele_result'].isna().sum()\n",
    "\n",
    "print(f\"Data Null Values:\")\n",
    "print(f\"  • Reference data nulls: {ref_nulls:,}\")\n",
    "print(f\"  • Lab data nulls: {lab_nulls:,}\")"
   ]
  },
  {
   "cell_type": "code",
   "execution_count": null,
   "id": "ecc904f5-40c5-4bc0-b3ff-9d94bb4ec400",
   "metadata": {},
   "outputs": [],
   "source": []
  },
  {
   "cell_type": "code",
   "execution_count": 81,
   "id": "a1afbc9c-8085-41cc-a484-8728b18af416",
   "metadata": {},
   "outputs": [
    {
     "name": "stdout",
     "output_type": "stream",
     "text": [
      "\n",
      "After Null Removal:\n",
      "  • Reference data has: 236,146 rows (removed 3,854 nulls)\n",
      "  • Lab data has: 236,164 rows (removed 3,836 nulls)\n"
     ]
    }
   ],
   "source": [
    "# Remove null values\n",
    "ref_clean = ref_df.dropna(subset=['allele_result'])\n",
    "lab_clean = lab_df.dropna(subset=['allele_result'])\n",
    "\n",
    "print(f\"\\nAfter Null Removal:\")\n",
    "print(f\"  • Reference data has: {len(ref_clean):,} rows (removed {len(ref_df) - len(ref_clean):,} nulls)\")\n",
    "print(f\"  • Lab data has: {len(lab_clean):,} rows (removed {len(lab_df) - len(lab_clean):,} nulls)\")\n"
   ]
  },
  {
   "cell_type": "code",
   "execution_count": null,
   "id": "67b9d02b-158e-4c03-8ef2-443c6f047798",
   "metadata": {},
   "outputs": [],
   "source": []
  },
  {
   "cell_type": "code",
   "execution_count": 85,
   "id": "4c770ae2-58f9-4cec-b57e-aa1ca80451ca",
   "metadata": {},
   "outputs": [
    {
     "name": "stdout",
     "output_type": "stream",
     "text": [
      "\n",
      "Clean Data Marker Overlap:\n",
      "  • Common markers: 39,801\n",
      "  • Reference-only markers, Markers unoq to Ref: 200\n",
      "  • Lab-only markers, Markers unoq to Lab: 94,642\n",
      "  • Overlap percentage: 29.6%\n"
     ]
    }
   ],
   "source": [
    "# Clean set of markers \n",
    "ref_markers_clean = set(ref_clean['marker'])\n",
    "lab_markers_clean = set(lab_clean['marker'])\n",
    "\n",
    "common_markers_clean = ref_markers_clean & lab_markers_clean\n",
    "ref_only_markers_clean = ref_markers_clean - lab_markers_clean\n",
    "lab_only_markers_clean = lab_markers_clean - ref_markers_clean\n",
    "\n",
    "print(f\"\\nClean Data Marker Overlap:\")\n",
    "print(f\"  • Common markers: {len(common_markers_clean):,}\")\n",
    "print(f\"  • Reference-only markers, Markers unoq to Ref: {len(ref_only_markers_clean):,}\")\n",
    "print(f\"  • Lab-only markers, Markers unoq to Lab: {len(lab_only_markers_clean):,}\")\n",
    "print(f\"  • Overlap percentage: {len(common_markers_clean)/len(ref_markers_clean | lab_markers_clean)*100:.1f}%\")"
   ]
  },
  {
   "cell_type": "code",
   "execution_count": 86,
   "id": "1d563341-85dd-46ab-9d1b-9cd9f8bb0e3d",
   "metadata": {},
   "outputs": [
    {
     "name": "stdout",
     "output_type": "stream",
     "text": [
      "\n",
      "Clean Data Individual-Marker Combinations:\n",
      "  • Common combinations: 141,445\n",
      "  • Reference-only combinations: 94,701\n",
      "  • Lab-only combinations: 94,692\n"
     ]
    }
   ],
   "source": [
    "# INDIVIDUAL-MARKER COMBINATION ANALYSIS\n",
    "ref_combinations_clean = set(zip(ref_clean['individual'], ref_clean['marker']))\n",
    "lab_combinations_clean = set(zip(lab_clean['individual'], lab_clean['marker']))\n",
    "\n",
    "common_combinations_clean = ref_combinations_clean & lab_combinations_clean\n",
    "ref_only_combinations_clean = ref_combinations_clean - lab_combinations_clean\n",
    "lab_only_combinations_clean = lab_combinations_clean - ref_combinations_clean\n",
    "\n",
    "print(f\"\\nClean Data Individual-Marker Combinations:\")\n",
    "print(f\"  • Common combinations: {len(common_combinations_clean):,}\")\n",
    "print(f\"  • Reference-only combinations: {len(ref_only_combinations_clean):,}\")\n",
    "print(f\"  • Lab-only combinations: {len(lab_only_combinations_clean):,}\")"
   ]
  },
  {
   "cell_type": "code",
   "execution_count": 90,
   "id": "4ef8c0eb-3e9c-4543-bade-caf8608f4abe",
   "metadata": {},
   "outputs": [
    {
     "name": "stdout",
     "output_type": "stream",
     "text": [
      "\n",
      "Comparison with Clean vs Original Analysis:\n",
      "  • Common markers: 39,801 vs 39,834\n",
      "  • Common combinations: 141,445 vs 143,720\n"
     ]
    }
   ],
   "source": [
    "# Compare with original analysis\n",
    "print(f\"\\nComparison with Clean vs Original Analysis:\")\n",
    "print(f\"  • Common markers: {len(common_markers_clean):,} vs {len(common_markers):,}\")\n",
    "print(f\"  • Common combinations: {len(common_combinations_clean):,} vs {len(common_combinations):,}\")\n",
    "# print(f\"  • Marker overlap %: {len(common_markers_clean)/len(ref_markers_clean | lab_markers_clean)*100:.1f}% vs {len(common_markers)/len(ref_markers | lab_markers)*100:.1f}%\")\n"
   ]
  },
  {
   "cell_type": "code",
   "execution_count": 91,
   "id": "049d1342-5560-47ba-aa04-b425eea5f470",
   "metadata": {},
   "outputs": [
    {
     "data": {
      "image/png": "[encoded data removed]",
      "text/plain": [
       "<Figure size 1500x1200 with 4 Axes>"
      ]
     },
     "metadata": {},
     "output_type": "display_data"
    }
   ],
   "source": [
    "# Create comparison visualization\n",
    "fig, ((ax1, ax2), (ax3, ax4)) = plt.subplots(2, 2, figsize=(15, 12))\n",
    "\n",
    "# Original marker overlap\n",
    "marker_data_orig = [len(common_markers), len(ref_only_markers), len(lab_only_markers)]\n",
    "marker_labels = ['Common', 'Ref Only', 'Lab Only']\n",
    "colors = ['gold', 'lightcoral', 'lightblue']\n",
    "\n",
    "ax1.pie(marker_data_orig, labels=marker_labels, colors=colors, autopct='%1.1f%%', startangle=90)\n",
    "ax1.set_title('Original Data\\nMarker Overlap')\n",
    "\n",
    "# Clean marker overlap\n",
    "marker_data_clean = [len(common_markers_clean), len(ref_only_markers_clean), len(lab_only_markers_clean)]\n",
    "ax2.pie(marker_data_clean, labels=marker_labels, colors=colors, autopct='%1.1f%%', startangle=90)\n",
    "ax2.set_title('After Null Removal\\nMarker Overlap')\n",
    "\n",
    "# Original combinations\n",
    "combo_data_orig = [len(common_combinations), len(ref_only_combinations), len(lab_only_combinations)]\n",
    "ax3.pie(combo_data_orig, labels=marker_labels, colors=colors, autopct='%1.1f%%', startangle=90)\n",
    "ax3.set_title('Original Data\\nCombination Overlap')\n",
    "\n",
    "# Clean combinations\n",
    "combo_data_clean = [len(common_combinations_clean), len(ref_only_combinations_clean), len(lab_only_combinations_clean)]\n",
    "ax4.pie(combo_data_clean, labels=marker_labels, colors=colors, autopct='%1.1f%%', startangle=90)\n",
    "ax4.set_title('After Null Removal\\nCombination Overlap')\n",
    "\n",
    "plt.tight_layout()\n",
    "plt.show()"
   ]
  },
  {
   "cell_type": "markdown",
   "id": "ef5f8ea4-c0e2-4256-b86f-c38537cd7090",
   "metadata": {},
   "source": [
    "### NOTE: Lab has more markers but less overlap with Ref. "
   ]
  },
  {
   "cell_type": "markdown",
   "id": "c7dfbf05-f458-47a3-9777-666a7e137d62",
   "metadata": {},
   "source": [
    "# MERGE"
   ]
  },
  {
   "cell_type": "code",
   "execution_count": 96,
   "id": "e050eb8c-d8c5-4136-9bdf-e4dc84034816",
   "metadata": {},
   "outputs": [
    {
     "data": {
      "text/html": [
       "<div>\n",
       "<style scoped>\n",
       "    .dataframe tbody tr th:only-of-type {\n",
       "        vertical-align: middle;\n",
       "    }\n",
       "\n",
       "    .dataframe tbody tr th {\n",
       "        vertical-align: top;\n",
       "    }\n",
       "\n",
       "    .dataframe thead th {\n",
       "        text-align: right;\n",
       "    }\n",
       "</style>\n",
       "<table border=\"1\" class=\"dataframe\">\n",
       "  <thead>\n",
       "    <tr style=\"text-align: right;\">\n",
       "      <th></th>\n",
       "      <th>individual</th>\n",
       "      <th>marker</th>\n",
       "      <th>allele_result_ref</th>\n",
       "      <th>allele_result_lab</th>\n",
       "      <th>status</th>\n",
       "    </tr>\n",
       "  </thead>\n",
       "  <tbody>\n",
       "    <tr>\n",
       "      <th>252578</th>\n",
       "      <td>CEP_C16</td>\n",
       "      <td>rs3817442</td>\n",
       "      <td>C/T</td>\n",
       "      <td>C/T</td>\n",
       "      <td>Common</td>\n",
       "    </tr>\n",
       "    <tr>\n",
       "      <th>279516</th>\n",
       "      <td>CEP_C2</td>\n",
       "      <td>rs10837423</td>\n",
       "      <td>C/C</td>\n",
       "      <td>NaN</td>\n",
       "      <td>Ref_Only</td>\n",
       "    </tr>\n",
       "    <tr>\n",
       "      <th>315489</th>\n",
       "      <td>CEP_C2</td>\n",
       "      <td>rs607165</td>\n",
       "      <td>G/G</td>\n",
       "      <td>NaN</td>\n",
       "      <td>Ref_Only</td>\n",
       "    </tr>\n",
       "    <tr>\n",
       "      <th>325952</th>\n",
       "      <td>CEP_C2</td>\n",
       "      <td>rs79649775</td>\n",
       "      <td>NaN</td>\n",
       "      <td>A/A</td>\n",
       "      <td>Lab_Only</td>\n",
       "    </tr>\n",
       "    <tr>\n",
       "      <th>266763</th>\n",
       "      <td>CEP_C16</td>\n",
       "      <td>rs73665767</td>\n",
       "      <td>NaN</td>\n",
       "      <td>G/G</td>\n",
       "      <td>Lab_Only</td>\n",
       "    </tr>\n",
       "    <tr>\n",
       "      <th>257931</th>\n",
       "      <td>CEP_C16</td>\n",
       "      <td>rs5024633</td>\n",
       "      <td>A/A</td>\n",
       "      <td>A/A</td>\n",
       "      <td>Common</td>\n",
       "    </tr>\n",
       "    <tr>\n",
       "      <th>75425</th>\n",
       "      <td>CEP_C13</td>\n",
       "      <td>rs16918483</td>\n",
       "      <td>A/A</td>\n",
       "      <td>A/A</td>\n",
       "      <td>Common</td>\n",
       "    </tr>\n",
       "    <tr>\n",
       "      <th>174441</th>\n",
       "      <td>CEP_C15</td>\n",
       "      <td>rs11039410</td>\n",
       "      <td>A/A</td>\n",
       "      <td>A/A</td>\n",
       "      <td>Common</td>\n",
       "    </tr>\n",
       "    <tr>\n",
       "      <th>200073</th>\n",
       "      <td>CEP_C15</td>\n",
       "      <td>rs45389400</td>\n",
       "      <td>NaN</td>\n",
       "      <td>A/A</td>\n",
       "      <td>Lab_Only</td>\n",
       "    </tr>\n",
       "    <tr>\n",
       "      <th>45020</th>\n",
       "      <td>CEP_C1</td>\n",
       "      <td>rs7128520</td>\n",
       "      <td>C/C</td>\n",
       "      <td>NaN</td>\n",
       "      <td>Ref_Only</td>\n",
       "    </tr>\n",
       "  </tbody>\n",
       "</table>\n",
       "</div>"
      ],
      "text/plain": [
       "       individual      marker allele_result_ref allele_result_lab    status\n",
       "252578    CEP_C16   rs3817442               C/T               C/T    Common\n",
       "279516     CEP_C2  rs10837423               C/C               NaN  Ref_Only\n",
       "315489     CEP_C2    rs607165               G/G               NaN  Ref_Only\n",
       "325952     CEP_C2  rs79649775               NaN               A/A  Lab_Only\n",
       "266763    CEP_C16  rs73665767               NaN               G/G  Lab_Only\n",
       "257931    CEP_C16   rs5024633               A/A               A/A    Common\n",
       "75425     CEP_C13  rs16918483               A/A               A/A    Common\n",
       "174441    CEP_C15  rs11039410               A/A               A/A    Common\n",
       "200073    CEP_C15  rs45389400               NaN               A/A  Lab_Only\n",
       "45020      CEP_C1   rs7128520               C/C               NaN  Ref_Only"
      ]
     },
     "execution_count": 96,
     "metadata": {},
     "output_type": "execute_result"
    }
   ],
   "source": [
    "merged = pd.merge(ref_clean, lab_clean,\n",
    "                             on=['individual', 'marker'],\n",
    "                             how='outer',\n",
    "                             indicator='status',\n",
    "                             suffixes=('_ref', '_lab'))\n",
    "merged['status'] = merged['status'].map({\n",
    "    'both': 'Common',\n",
    "    'left_only': 'Ref_Only',\n",
    "    'right_only': 'Lab_Only'\n",
    "    })\n",
    "merged.sample(n=10)"
   ]
  },
  {
   "cell_type": "code",
   "execution_count": 119,
   "id": "e10befea-d328-41e8-a39b-cb5e661fa4f3",
   "metadata": {},
   "outputs": [
    {
     "data": {
      "text/html": [
       "<div>\n",
       "<style scoped>\n",
       "    .dataframe tbody tr th:only-of-type {\n",
       "        vertical-align: middle;\n",
       "    }\n",
       "\n",
       "    .dataframe tbody tr th {\n",
       "        vertical-align: top;\n",
       "    }\n",
       "\n",
       "    .dataframe thead th {\n",
       "        text-align: right;\n",
       "    }\n",
       "</style>\n",
       "<table border=\"1\" class=\"dataframe\">\n",
       "  <thead>\n",
       "    <tr style=\"text-align: right;\">\n",
       "      <th></th>\n",
       "      <th>individual</th>\n",
       "      <th>marker</th>\n",
       "      <th>allele_result_ref</th>\n",
       "      <th>allele_result_lab</th>\n",
       "      <th>status</th>\n",
       "    </tr>\n",
       "  </thead>\n",
       "  <tbody>\n",
       "    <tr>\n",
       "      <th>0</th>\n",
       "      <td>CEP_C1</td>\n",
       "      <td>rs1000186</td>\n",
       "      <td>C/T</td>\n",
       "      <td>C/T</td>\n",
       "      <td>Common</td>\n",
       "    </tr>\n",
       "    <tr>\n",
       "      <th>1</th>\n",
       "      <td>CEP_C1</td>\n",
       "      <td>rs1000343</td>\n",
       "      <td>C/C</td>\n",
       "      <td>C/C</td>\n",
       "      <td>Common</td>\n",
       "    </tr>\n",
       "    <tr>\n",
       "      <th>2</th>\n",
       "      <td>CEP_C1</td>\n",
       "      <td>rs1000447</td>\n",
       "      <td>C/C</td>\n",
       "      <td>C/C</td>\n",
       "      <td>Common</td>\n",
       "    </tr>\n",
       "    <tr>\n",
       "      <th>4</th>\n",
       "      <td>CEP_C1</td>\n",
       "      <td>rs1000540</td>\n",
       "      <td>T/T</td>\n",
       "      <td>T/T</td>\n",
       "      <td>Common</td>\n",
       "    </tr>\n",
       "    <tr>\n",
       "      <th>7</th>\n",
       "      <td>CEP_C1</td>\n",
       "      <td>rs1000677</td>\n",
       "      <td>T/T</td>\n",
       "      <td>T/T</td>\n",
       "      <td>Common</td>\n",
       "    </tr>\n",
       "  </tbody>\n",
       "</table>\n",
       "</div>"
      ],
      "text/plain": [
       "  individual     marker allele_result_ref allele_result_lab  status\n",
       "0     CEP_C1  rs1000186               C/T               C/T  Common\n",
       "1     CEP_C1  rs1000343               C/C               C/C  Common\n",
       "2     CEP_C1  rs1000447               C/C               C/C  Common\n",
       "4     CEP_C1  rs1000540               T/T               T/T  Common\n",
       "7     CEP_C1  rs1000677               T/T               T/T  Common"
      ]
     },
     "execution_count": 119,
     "metadata": {},
     "output_type": "execute_result"
    }
   ],
   "source": [
    "common_df = merged[merged['status'] == 'Common']\n",
    "common_df.head()"
   ]
  },
  {
   "cell_type": "markdown",
   "id": "091b7361-a358-4b20-a0ab-59090aed7ce3",
   "metadata": {},
   "source": [
    "### Match allele result"
   ]
  },
  {
   "cell_type": "code",
   "execution_count": 121,
   "id": "3010ce78-eebb-4779-8d97-b5d88a1eb2ae",
   "metadata": {},
   "outputs": [
    {
     "data": {
      "text/html": [
       "<div>\n",
       "<style scoped>\n",
       "    .dataframe tbody tr th:only-of-type {\n",
       "        vertical-align: middle;\n",
       "    }\n",
       "\n",
       "    .dataframe tbody tr th {\n",
       "        vertical-align: top;\n",
       "    }\n",
       "\n",
       "    .dataframe thead th {\n",
       "        text-align: right;\n",
       "    }\n",
       "</style>\n",
       "<table border=\"1\" class=\"dataframe\">\n",
       "  <thead>\n",
       "    <tr style=\"text-align: right;\">\n",
       "      <th></th>\n",
       "      <th>individual</th>\n",
       "      <th>marker</th>\n",
       "      <th>allele_result_ref</th>\n",
       "      <th>allele_result_lab</th>\n",
       "      <th>status</th>\n",
       "      <th>match</th>\n",
       "    </tr>\n",
       "  </thead>\n",
       "  <tbody>\n",
       "    <tr>\n",
       "      <th>103194</th>\n",
       "      <td>CEP_C13</td>\n",
       "      <td>rs7931439</td>\n",
       "      <td>A/A</td>\n",
       "      <td>A/A</td>\n",
       "      <td>Common</td>\n",
       "      <td>True</td>\n",
       "    </tr>\n",
       "    <tr>\n",
       "      <th>277819</th>\n",
       "      <td>CEP_C2</td>\n",
       "      <td>rs10767810</td>\n",
       "      <td>C/T</td>\n",
       "      <td>C/T</td>\n",
       "      <td>Common</td>\n",
       "      <td>True</td>\n",
       "    </tr>\n",
       "  </tbody>\n",
       "</table>\n",
       "</div>"
      ],
      "text/plain": [
       "       individual      marker allele_result_ref allele_result_lab  status  \\\n",
       "103194    CEP_C13   rs7931439               A/A               A/A  Common   \n",
       "277819     CEP_C2  rs10767810               C/T               C/T  Common   \n",
       "\n",
       "        match  \n",
       "103194   True  \n",
       "277819   True  "
      ]
     },
     "execution_count": 121,
     "metadata": {},
     "output_type": "execute_result"
    }
   ],
   "source": [
    "common_df.loc[:,'match'] = common_df['allele_result_ref'] == common_df['allele_result_lab']\n",
    "common_df.sample(n=2)"
   ]
  },
  {
   "cell_type": "code",
   "execution_count": 123,
   "id": "79a8abd5-a41f-4ae4-a5bd-e4e7b928303d",
   "metadata": {},
   "outputs": [
    {
     "data": {
      "text/html": [
       "<div>\n",
       "<style scoped>\n",
       "    .dataframe tbody tr th:only-of-type {\n",
       "        vertical-align: middle;\n",
       "    }\n",
       "\n",
       "    .dataframe tbody tr th {\n",
       "        vertical-align: top;\n",
       "    }\n",
       "\n",
       "    .dataframe thead th {\n",
       "        text-align: right;\n",
       "    }\n",
       "</style>\n",
       "<table border=\"1\" class=\"dataframe\">\n",
       "  <thead>\n",
       "    <tr style=\"text-align: right;\">\n",
       "      <th></th>\n",
       "      <th>individual</th>\n",
       "      <th>marker</th>\n",
       "      <th>allele_result_ref</th>\n",
       "      <th>allele_result_lab</th>\n",
       "      <th>status</th>\n",
       "      <th>match</th>\n",
       "    </tr>\n",
       "  </thead>\n",
       "  <tbody>\n",
       "    <tr>\n",
       "      <th>228548</th>\n",
       "      <td>CEP_C16</td>\n",
       "      <td>rs11037041</td>\n",
       "      <td>A/G</td>\n",
       "      <td>T/A</td>\n",
       "      <td>Common</td>\n",
       "      <td>False</td>\n",
       "    </tr>\n",
       "    <tr>\n",
       "      <th>285203</th>\n",
       "      <td>CEP_C2</td>\n",
       "      <td>rs11490925</td>\n",
       "      <td>G/G</td>\n",
       "      <td>A/C</td>\n",
       "      <td>Common</td>\n",
       "      <td>False</td>\n",
       "    </tr>\n",
       "    <tr>\n",
       "      <th>222029</th>\n",
       "      <td>CEP_C16</td>\n",
       "      <td>rs10742620</td>\n",
       "      <td>G/G</td>\n",
       "      <td>C/A</td>\n",
       "      <td>Common</td>\n",
       "      <td>False</td>\n",
       "    </tr>\n",
       "    <tr>\n",
       "      <th>185090</th>\n",
       "      <td>CEP_C15</td>\n",
       "      <td>rs1570216</td>\n",
       "      <td>A/A</td>\n",
       "      <td>G/T</td>\n",
       "      <td>Common</td>\n",
       "      <td>False</td>\n",
       "    </tr>\n",
       "    <tr>\n",
       "      <th>111789</th>\n",
       "      <td>CEP_C14</td>\n",
       "      <td>rs10742825</td>\n",
       "      <td>G/G</td>\n",
       "      <td>T/T</td>\n",
       "      <td>Common</td>\n",
       "      <td>False</td>\n",
       "    </tr>\n",
       "    <tr>\n",
       "      <th>235578</th>\n",
       "      <td>CEP_C16</td>\n",
       "      <td>rs12420694</td>\n",
       "      <td>T/T</td>\n",
       "      <td>C/C</td>\n",
       "      <td>Common</td>\n",
       "      <td>False</td>\n",
       "    </tr>\n",
       "    <tr>\n",
       "      <th>254446</th>\n",
       "      <td>CEP_C16</td>\n",
       "      <td>rs4348886</td>\n",
       "      <td>C/C</td>\n",
       "      <td>T/T</td>\n",
       "      <td>Common</td>\n",
       "      <td>False</td>\n",
       "    </tr>\n",
       "    <tr>\n",
       "      <th>154611</th>\n",
       "      <td>CEP_C14</td>\n",
       "      <td>rs7119404</td>\n",
       "      <td>C/T</td>\n",
       "      <td>C/G</td>\n",
       "      <td>Common</td>\n",
       "      <td>False</td>\n",
       "    </tr>\n",
       "    <tr>\n",
       "      <th>170575</th>\n",
       "      <td>CEP_C15</td>\n",
       "      <td>rs11029849</td>\n",
       "      <td>G/G</td>\n",
       "      <td>C/G</td>\n",
       "      <td>Common</td>\n",
       "      <td>False</td>\n",
       "    </tr>\n",
       "    <tr>\n",
       "      <th>242170</th>\n",
       "      <td>CEP_C16</td>\n",
       "      <td>rs16938126</td>\n",
       "      <td>C/G</td>\n",
       "      <td>G/C</td>\n",
       "      <td>Common</td>\n",
       "      <td>False</td>\n",
       "    </tr>\n",
       "  </tbody>\n",
       "</table>\n",
       "</div>"
      ],
      "text/plain": [
       "       individual      marker allele_result_ref allele_result_lab  status  \\\n",
       "228548    CEP_C16  rs11037041               A/G               T/A  Common   \n",
       "285203     CEP_C2  rs11490925               G/G               A/C  Common   \n",
       "222029    CEP_C16  rs10742620               G/G               C/A  Common   \n",
       "185090    CEP_C15   rs1570216               A/A               G/T  Common   \n",
       "111789    CEP_C14  rs10742825               G/G               T/T  Common   \n",
       "235578    CEP_C16  rs12420694               T/T               C/C  Common   \n",
       "254446    CEP_C16   rs4348886               C/C               T/T  Common   \n",
       "154611    CEP_C14   rs7119404               C/T               C/G  Common   \n",
       "170575    CEP_C15  rs11029849               G/G               C/G  Common   \n",
       "242170    CEP_C16  rs16938126               C/G               G/C  Common   \n",
       "\n",
       "        match  \n",
       "228548  False  \n",
       "285203  False  \n",
       "222029  False  \n",
       "185090  False  \n",
       "111789  False  \n",
       "235578  False  \n",
       "254446  False  \n",
       "154611  False  \n",
       "170575  False  \n",
       "242170  False  "
      ]
     },
     "execution_count": 123,
     "metadata": {},
     "output_type": "execute_result"
    }
   ],
   "source": [
    "matches = common_df[common_df['match']]\n",
    "mismatches=common_df[~common_df['match']]\n",
    "mismatch.sample(10)"
   ]
  },
  {
   "cell_type": "markdown",
   "id": "aef5be50-4c4c-41fc-bfb0-ddb0a7b6231a",
   "metadata": {},
   "source": [
    "# STATS:"
   ]
  },
  {
   "cell_type": "code",
   "execution_count": 129,
   "id": "32adb565-58df-418f-9e62-daf47424e6a0",
   "metadata": {},
   "outputs": [
    {
     "name": "stdout",
     "output_type": "stream",
     "text": [
      "COMPREHENSIVE STATISTICS:\n",
      "  • Total comparisons (common): 141,459\n",
      "  • Matches: 140,048 (99.0%)\n",
      "  • Mismatches: 1,411 (Error: 1.00%)\n"
     ]
    }
   ],
   "source": [
    "total_comparisons = len(common_df)\n",
    "total_mismatches = len(mismatches)\n",
    "total_matches = len(matches)\n",
    "error_rate = (total_mismatches / total_comparisons) * 100\n",
    "\n",
    "print(\"COMPREHENSIVE STATISTICS:\")\n",
    "print(f\"  • Total comparisons (common): {total_comparisons:,}\")\n",
    "print(f\"  • Matches: {total_matches:,} ({total_matches/total_comparisons*100:.1f}%)\")\n",
    "print(f\"  • Mismatches: {total_mismatches:,} (Error: {error_rate:.2f}%)\")"
   ]
  },
  {
   "cell_type": "code",
   "execution_count": 130,
   "id": "42ec594e-ad91-4894-8061-4b932d38d647",
   "metadata": {},
   "outputs": [
    {
     "name": "stdout",
     "output_type": "stream",
     "text": [
      "  • Unique error markers: 1,389\n"
     ]
    }
   ],
   "source": [
    "unique_error_markers = mismatches['marker'].nunique()\n",
    "print(f\"  • Unique error markers: {unique_error_markers:,}\")"
   ]
  },
  {
   "cell_type": "code",
   "execution_count": 132,
   "id": "13fe7db3-2b39-4993-b877-124db2844b44",
   "metadata": {},
   "outputs": [
    {
     "name": "stdout",
     "output_type": "stream",
     "text": [
      "rs1000480\n",
      "rs1003715\n",
      "rs1008041\n",
      "rs10082678\n",
      "rs1009070\n",
      "rs1013608\n",
      "rs10160324\n",
      "rs10160379\n",
      "rs1016747\n",
      "rs1020281\n"
     ]
    }
   ],
   "source": [
    "unique_error_markers_list = sorted(mismatches['marker'].unique())\n",
    "for marker in unique_error_markers_list[:10]:\n",
    "    print(f\"{marker}\")"
   ]
  },
  {
   "cell_type": "code",
   "execution_count": null,
   "id": "1b4c73a7-a292-4577-80b5-0a922a8ce705",
   "metadata": {},
   "outputs": [],
   "source": []
  }
 ],
 "metadata": {
  "kernelspec": {
   "display_name": "Python 3 (ipykernel)",
   "language": "python",
   "name": "python3"
  },
  "language_info": {
   "codemirror_mode": {
    "name": "ipython",
    "version": 3
   },
   "file_extension": ".py",
   "mimetype": "text/x-python",
   "name": "python",
   "nbconvert_exporter": "python",
   "pygments_lexer": "ipython3",
   "version": "3.12.7"
  }
 },
 "nbformat": 4,
 "nbformat_minor": 5
}
